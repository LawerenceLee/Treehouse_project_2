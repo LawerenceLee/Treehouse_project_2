{
 "cells": [
  {
   "cell_type": "code",
   "execution_count": 18,
   "metadata": {
    "collapsed": false
   },
   "outputs": [],
   "source": [
    "from onetimepad import OneTimePad as otp\n",
    "from padding import Padding\n",
    "from atbash import Atbash\n",
    "from keywords import Keyword\n",
    "from affine import Affine\n",
    "from caesar import Caesar"
   ]
  },
  {
   "cell_type": "code",
   "execution_count": 2,
   "metadata": {
    "collapsed": false
   },
   "outputs": [],
   "source": [
    "# git clone <name of repo>\n",
    "# git status   # inside folder with repo, tells which files are not being tracted\n",
    "# git add <name of file> # adds file to git\n",
    "# git commit -m \"<comment>\" # commits changes with comment\n",
    "\n",
    "# git push origin master # push files to github"
   ]
  },
  {
   "cell_type": "code",
   "execution_count": 3,
   "metadata": {
    "collapsed": false
   },
   "outputs": [],
   "source": [
    "message = \"I am a modern major general\"\n",
    "my_message = 'Since the dawn of time we have been grasping at the straws of immortality.'\n",
    "numbers = '6 is greater (>), than 5'\n",
    "my_var = numbers"
   ]
  },
  {
   "cell_type": "code",
   "execution_count": 4,
   "metadata": {
    "collapsed": false
   },
   "outputs": [
    {
     "name": "stdout",
     "output_type": "stream",
     "text": [
      "[$K-$mE|az|E$p9r>$zFaR$6\n"
     ]
    }
   ],
   "source": [
    "from affine import Affine\n",
    "liev = Affine(my_var, 2, 93)\n",
    "cryptic_affine = liev.encrypt()\n",
    "print(cryptic_affine)"
   ]
  },
  {
   "cell_type": "code",
   "execution_count": 5,
   "metadata": {
    "collapsed": false
   },
   "outputs": [],
   "source": [
    "# kiev = Keyword(my_var, 'twins')\n",
    "# cryptic_keyword = kiev.encrypt()\n",
    "# print(cryptic_keyword)"
   ]
  },
  {
   "cell_type": "code",
   "execution_count": 6,
   "metadata": {
    "collapsed": false
   },
   "outputs": [],
   "source": [
    "# e_text = 'D tc t censhd ctSeh Wsdshtb'\n",
    "# tiev = Keyword(e_text, 'twins')\n",
    "# tiev.decrypt()"
   ]
  },
  {
   "cell_type": "code",
   "execution_count": 7,
   "metadata": {
    "collapsed": false
   },
   "outputs": [],
   "source": [
    "# ata = Atbash()\n",
    "# cryptic_atbash = ata.encrypt(message)\n",
    "# print(cryptic_atbash)"
   ]
  },
  {
   "cell_type": "code",
   "execution_count": 8,
   "metadata": {
    "collapsed": false
   },
   "outputs": [
    {
     "name": "stdout",
     "output_type": "stream",
     "text": [
      "('Hd_s>m9&ºs?93kF-l3t+RBpD', 't@3)Ja& ºvd&RSgG≥R#GRW=Y')\n"
     ]
    }
   ],
   "source": [
    "one_time = otp()\n",
    "charlie = one_time.encrypt(cryptic_affine)\n",
    "print(charlie)"
   ]
  },
  {
   "cell_type": "code",
   "execution_count": 9,
   "metadata": {
    "collapsed": false,
    "scrolled": true
   },
   "outputs": [
    {
     "name": "stdout",
     "output_type": "stream",
     "text": [
      "Hd_s> çm9&º çs?93 çkF-l ç3t+R ¥çBpD\n",
      "t@3)J ç∆a˜& ºvd&R çSgG≥ çR#GR çW=Yµ\n"
     ]
    }
   ],
   "source": [
    "text_padd = Padding()\n",
    "key_padd = Padding()\n",
    "txted = text_padd.add_padding(charlie[0])\n",
    "keyed = key_padd.add_padding(charlie[1])\n",
    "print(txted)\n",
    "print(keyed)"
   ]
  },
  {
   "cell_type": "markdown",
   "metadata": {},
   "source": [
    "## Enter text and key into the following variables"
   ]
  },
  {
   "cell_type": "code",
   "execution_count": 10,
   "metadata": {
    "collapsed": false
   },
   "outputs": [
    {
     "name": "stdout",
     "output_type": "stream",
     "text": [
      "Hd_s>m9&ºs?93kF-l3t+RBpD\n",
      "t@3)Ja& ºvd&RSgG≥R#GRW=Y\n"
     ]
    }
   ],
   "source": [
    "unpadded_txt = text_padd.remove_padding(txted)\n",
    "unpadded_key = key_padd.remove_padding(keyed)\n",
    "print(unpadded_txt)\n",
    "print(unpadded_key)"
   ]
  },
  {
   "cell_type": "code",
   "execution_count": 11,
   "metadata": {
    "collapsed": false
   },
   "outputs": [
    {
     "name": "stdout",
     "output_type": "stream",
     "text": [
      "[$K-$mE|az|E$p9r>$zFaR$6\n"
     ]
    }
   ],
   "source": [
    "remove_pad = one_time.decrypt(unpadded_txt, unpadded_key)\n",
    "print(remove_pad)"
   ]
  },
  {
   "cell_type": "code",
   "execution_count": 12,
   "metadata": {
    "collapsed": false
   },
   "outputs": [],
   "source": [
    "# remove_pad = one_time.decrypt(charlie[0], charlie[1])\n",
    "# print(remove_pad)"
   ]
  },
  {
   "cell_type": "code",
   "execution_count": 13,
   "metadata": {
    "collapsed": false
   },
   "outputs": [],
   "source": [
    "tiev = Affine(remove_pad, 2, 93)\n",
    "end = tiev.decrypt()"
   ]
  },
  {
   "cell_type": "code",
   "execution_count": 14,
   "metadata": {
    "collapsed": false
   },
   "outputs": [
    {
     "name": "stdout",
     "output_type": "stream",
     "text": [
      "[+] PASSED\n"
     ]
    }
   ],
   "source": [
    "if end == my_var:\n",
    "    print('[+] PASSED')\n",
    "else:\n",
    "    print('[-] FAILED')"
   ]
  },
  {
   "cell_type": "code",
   "execution_count": 15,
   "metadata": {
    "collapsed": false
   },
   "outputs": [
    {
     "data": {
      "text/plain": [
       "8"
      ]
     },
     "execution_count": 15,
     "metadata": {},
     "output_type": "execute_result"
    }
   ],
   "source": [
    "8 % 26"
   ]
  },
  {
   "cell_type": "code",
   "execution_count": 16,
   "metadata": {
    "collapsed": false
   },
   "outputs": [
    {
     "data": {
      "text/plain": [
       "'6 is greater (>), than 5'"
      ]
     },
     "execution_count": 16,
     "metadata": {},
     "output_type": "execute_result"
    }
   ],
   "source": [
    "my_affine = Affine(numbers, 2, 93)\n",
    "crypted = my_affine.encrypt()\n",
    "the_affine = Affine(crypted, 2, 93)\n",
    "the_affine.decrypt()"
   ]
  },
  {
   "cell_type": "code",
   "execution_count": 21,
   "metadata": {
    "collapsed": false
   },
   "outputs": [],
   "source": [
    "the_c = Caesar()\n",
    "the_fix = the_c.encrypt(message)"
   ]
  },
  {
   "cell_type": "code",
   "execution_count": 22,
   "metadata": {
    "collapsed": false
   },
   "outputs": [
    {
     "data": {
      "text/plain": [
       "'I AM A MODERN MAJOR GENERAL'"
      ]
     },
     "execution_count": 22,
     "metadata": {},
     "output_type": "execute_result"
    }
   ],
   "source": [
    "the_c.decrypt(the_fix)"
   ]
  },
  {
   "cell_type": "code",
   "execution_count": null,
   "metadata": {
    "collapsed": true
   },
   "outputs": [],
   "source": [
    "Four score and seven years ago our fathers brought forth on this continent, a new nation, conceived in Liberty, and dedicated to the proposition that all men are created equal."
   ]
  },
  {
   "cell_type": "code",
   "execution_count": 1,
   "metadata": {
    "collapsed": true
   },
   "outputs": [],
   "source": []
  },
  {
   "cell_type": "code",
   "execution_count": null,
   "metadata": {
    "collapsed": false
   },
   "outputs": [],
   "source": []
  },
  {
   "cell_type": "code",
   "execution_count": null,
   "metadata": {
    "collapsed": true
   },
   "outputs": [],
   "source": []
  }
 ],
 "metadata": {
  "kernelspec": {
   "display_name": "Python 3",
   "language": "python",
   "name": "python3"
  },
  "language_info": {
   "codemirror_mode": {
    "name": "ipython",
    "version": 3
   },
   "file_extension": ".py",
   "mimetype": "text/x-python",
   "name": "python",
   "nbconvert_exporter": "python",
   "pygments_lexer": "ipython3",
   "version": "3.6.0"
  }
 },
 "nbformat": 4,
 "nbformat_minor": 2
}
