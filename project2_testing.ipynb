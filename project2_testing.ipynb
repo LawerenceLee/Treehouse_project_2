{
 "cells": [
  {
   "cell_type": "code",
   "execution_count": 1,
   "metadata": {
    "collapsed": false
   },
   "outputs": [],
   "source": [
    "from onetimepad import OneTimePad as otp\n",
    "from padding import Padding"
   ]
  },
  {
   "cell_type": "code",
   "execution_count": 2,
   "metadata": {
    "collapsed": false
   },
   "outputs": [],
   "source": [
    "# git clone <name of repo>\n",
    "# git status   # inside folder with repo, tells which files are not being tracted\n",
    "# git add <name of file> # adds file to git\n",
    "# git commit -m \"<comment>\" # commits changes with comment\n",
    "\n",
    "# git push origin master # push files to github"
   ]
  },
  {
   "cell_type": "code",
   "execution_count": 3,
   "metadata": {
    "collapsed": false
   },
   "outputs": [],
   "source": [
    "message = \"I am a modern major general\""
   ]
  },
  {
   "cell_type": "code",
   "execution_count": 4,
   "metadata": {
    "collapsed": false
   },
   "outputs": [
    {
     "name": "stdout",
     "output_type": "stream",
     "text": [
      "º÷/V7zR<YKTaB[/*ELm-z-8is;ºJ \n",
      " 44/JJzz+JBI-??]*5l÷÷XTº1?;VV\n"
     ]
    }
   ],
   "source": [
    "one_time = otp()\n",
    "one_time.encrypt(message)"
   ]
  },
  {
   "cell_type": "code",
   "execution_count": 5,
   "metadata": {
    "collapsed": false
   },
   "outputs": [
    {
     "name": "stdout",
     "output_type": "stream",
     "text": [
      "I am a modern major general \n"
     ]
    }
   ],
   "source": [
    "txt = \"eY8:w&u:Qg)&5%VDa. mh[DB1XºJ\"\n",
    "key = \"nn8((&&(i;^C[[JDXKyyYZ<6eXVV\"\n",
    "\n",
    "# sucessful\n",
    "# txt = \",∑/∑® Z∫X9∆ √]†^π 0RxH$ åaçw∫ ;k/2u |ƒ¬ƒ∫ -,Zm3 q%4˜˙\"\n",
    "# key = \"®˚ßHH ZLπåL ]]√˙˙ |r90m œ(¬(√ Xk=X0 0œ¥†µ %÷G5z qGGœ∂\"\n",
    "\n",
    "one_time.decrypt(txt, key)"
   ]
  },
  {
   "cell_type": "code",
   "execution_count": 6,
   "metadata": {
    "collapsed": true
   },
   "outputs": [],
   "source": [
    "my_message = 'Since the dawn of time we have been grasping at the straws of immortality.'"
   ]
  },
  {
   "cell_type": "code",
   "execution_count": 7,
   "metadata": {
    "collapsed": false
   },
   "outputs": [
    {
     "name": "stdout",
     "output_type": "stream",
     "text": [
      "hRMXV GSV WZDM LU GRNV DV SZEV YVVM TIZHKRMT ZG GSV HGIZDH LU RNNLIGZORGB+\n",
      "Since the dawn of time we have been grasping at the straws of immortality.\n"
     ]
    }
   ],
   "source": [
    "from atbash import Atbash\n",
    "ata = Atbash()\n",
    "ata.encrypt(my_message)\n",
    "decryption = 'hRMXV GSV WZDM LU GRNV DV SZEV YVVM TIZHKRMT ZG GSV HGIZDH LU RNNLIGZORGB+'\n",
    "ata.decrypt(decryption)"
   ]
  },
  {
   "cell_type": "code",
   "execution_count": 8,
   "metadata": {
    "collapsed": false
   },
   "outputs": [
    {
     "name": "stdout",
     "output_type": "stream",
     "text": [
      "Since t≈he√ d∑awn ˜çßof tim∑e ≈ß∑we have∫ bee≈n grasp ˙œing ˚œa©t t∫h˚e straw ˙πs∫ø πofœƒ immor ˙tali ˙ty.ç \n"
     ]
    }
   ],
   "source": [
    "bash = Padding()\n",
    "bash.add_padding('Since the dawn of time we have been grasping at the straws of immortality.')"
   ]
  },
  {
   "cell_type": "code",
   "execution_count": 9,
   "metadata": {
    "collapsed": false
   },
   "outputs": [
    {
     "name": "stdout",
     "output_type": "stream",
     "text": [
      "Since the dawn of time we have been grasping at the straws of immortality.\n"
     ]
    }
   ],
   "source": [
    "bash.remove_padding('Since ∑the∂ d¬awn å∫of® time∆ w¬ße∫ have® beenø grasp ∆˙ing ˜atåµ ©the∆ straw ˙sç∆∆ o˜fç∆ immor ˙tali ˙tyß.')"
   ]
  },
  {
   "cell_type": "code",
   "execution_count": null,
   "metadata": {
    "collapsed": true
   },
   "outputs": [],
   "source": []
  }
 ],
 "metadata": {
  "kernelspec": {
   "display_name": "Python 3",
   "language": "python",
   "name": "python3"
  },
  "language_info": {
   "codemirror_mode": {
    "name": "ipython",
    "version": 3
   },
   "file_extension": ".py",
   "mimetype": "text/x-python",
   "name": "python",
   "nbconvert_exporter": "python",
   "pygments_lexer": "ipython3",
   "version": "3.6.0"
  }
 },
 "nbformat": 4,
 "nbformat_minor": 2
}
