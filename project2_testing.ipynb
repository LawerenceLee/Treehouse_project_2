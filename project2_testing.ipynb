{
 "cells": [
  {
   "cell_type": "code",
   "execution_count": 1,
   "metadata": {
    "collapsed": false
   },
   "outputs": [],
   "source": [
    "from onetimepad import OneTimePad as otp\n",
    "from padding import Padding\n",
    "from atbash import Atbash\n",
    "from keywords import Keyword\n",
    "from affine import Affine\n",
    "from caesar import Caesar"
   ]
  },
  {
   "cell_type": "code",
   "execution_count": 2,
   "metadata": {
    "collapsed": false
   },
   "outputs": [],
   "source": [
    "# git clone <name of repo>\n",
    "# git status   # inside folder with repo, tells which files are not being tracted\n",
    "# git add <name of file> # adds file to git\n",
    "# git commit -m \"<comment>\" # commits changes with comment\n",
    "\n",
    "# git push origin master # push files to github"
   ]
  },
  {
   "cell_type": "code",
   "execution_count": 3,
   "metadata": {
    "collapsed": false
   },
   "outputs": [],
   "source": [
    "message = \"I am a modern major general\"\n",
    "my_message = 'Since the dawn of time we have been grasping at the straws of immortality.'\n",
    "numbers = '6 is greater (>), than 5'\n",
    "my_var = numbers"
   ]
  },
  {
   "cell_type": "code",
   "execution_count": 4,
   "metadata": {
    "collapsed": false
   },
   "outputs": [
    {
     "name": "stdout",
     "output_type": "stream",
     "text": [
      "[$K-$mE|az|E$p9r>$zFaR$6\n"
     ]
    }
   ],
   "source": [
    "from affine import Affine\n",
    "liev = Affine(my_var, 2, 93)\n",
    "cryptic_affine = liev.encrypt()\n",
    "print(cryptic_affine)"
   ]
  },
  {
   "cell_type": "code",
   "execution_count": 5,
   "metadata": {
    "collapsed": false
   },
   "outputs": [],
   "source": [
    "# kiev = Keyword(my_var, 'twins')\n",
    "# cryptic_keyword = kiev.encrypt()\n",
    "# print(cryptic_keyword)"
   ]
  },
  {
   "cell_type": "code",
   "execution_count": 6,
   "metadata": {
    "collapsed": false
   },
   "outputs": [],
   "source": [
    "# e_text = 'D tc t censhd ctSeh Wsdshtb'\n",
    "# tiev = Keyword(e_text, 'twins')\n",
    "# tiev.decrypt()"
   ]
  },
  {
   "cell_type": "code",
   "execution_count": 7,
   "metadata": {
    "collapsed": false
   },
   "outputs": [],
   "source": [
    "# ata = Atbash()\n",
    "# cryptic_atbash = ata.encrypt(message)\n",
    "# print(cryptic_atbash)"
   ]
  },
  {
   "cell_type": "code",
   "execution_count": 8,
   "metadata": {
    "collapsed": false
   },
   "outputs": [
    {
     "name": "stdout",
     "output_type": "stream",
     "text": [
      "('O<8s<p_BeoAA@G ÷?u#dkC!Y', '+I )Id9weyp≥><vS;|R_kb<@')\n"
     ]
    }
   ],
   "source": [
    "one_time = otp()\n",
    "charlie = one_time.encrypt(cryptic_affine)\n",
    "print(charlie)"
   ]
  },
  {
   "cell_type": "code",
   "execution_count": 9,
   "metadata": {
    "collapsed": false,
    "scrolled": true
   },
   "outputs": [
    {
     "name": "stdout",
     "output_type": "stream",
     "text": [
      "O<8s< çp_Be çoAA@ çπå˙G ÷?u#d çkC!Y ç¬ß®ø\n",
      "+∂∑˜I )Id9w çeyp≥ ç><vS ç;|R_ çkb<@ çœ†˜¬\n"
     ]
    }
   ],
   "source": [
    "text_padd = Padding()\n",
    "key_padd = Padding()\n",
    "txted = text_padd.add_padding(charlie[0])\n",
    "keyed = key_padd.add_padding(charlie[1])\n",
    "print(txted)\n",
    "print(keyed)"
   ]
  },
  {
   "cell_type": "markdown",
   "metadata": {},
   "source": [
    "## Enter text and key into the following variables"
   ]
  },
  {
   "cell_type": "code",
   "execution_count": 10,
   "metadata": {
    "collapsed": false
   },
   "outputs": [
    {
     "name": "stdout",
     "output_type": "stream",
     "text": [
      "O<8s<p_BeoAA@G ÷?u#dkC!Y\n",
      "+I )Id9weyp≥><vS;|R_kb<@\n"
     ]
    }
   ],
   "source": [
    "unpadded_txt = text_padd.remove_padding(txted)\n",
    "unpadded_key = key_padd.remove_padding(keyed)\n",
    "print(unpadded_txt)\n",
    "print(unpadded_key)"
   ]
  },
  {
   "cell_type": "code",
   "execution_count": 11,
   "metadata": {
    "collapsed": false
   },
   "outputs": [
    {
     "name": "stdout",
     "output_type": "stream",
     "text": [
      "[$K-$mE|az|E$p9r>$zFaR$6\n"
     ]
    }
   ],
   "source": [
    "remove_pad = one_time.decrypt(unpadded_txt, unpadded_key)\n",
    "print(remove_pad)"
   ]
  },
  {
   "cell_type": "code",
   "execution_count": 12,
   "metadata": {
    "collapsed": false
   },
   "outputs": [],
   "source": [
    "# remove_pad = one_time.decrypt(charlie[0], charlie[1])\n",
    "# print(remove_pad)"
   ]
  },
  {
   "cell_type": "code",
   "execution_count": 13,
   "metadata": {
    "collapsed": false
   },
   "outputs": [],
   "source": [
    "tiev = Affine(remove_pad, 2, 93)\n",
    "end = tiev.decrypt()"
   ]
  },
  {
   "cell_type": "code",
   "execution_count": 14,
   "metadata": {
    "collapsed": false
   },
   "outputs": [
    {
     "name": "stdout",
     "output_type": "stream",
     "text": [
      "[+] PASSED\n"
     ]
    }
   ],
   "source": [
    "if end == my_var:\n",
    "    print('[+] PASSED')\n",
    "else:\n",
    "    print('[-] FAILED')"
   ]
  },
  {
   "cell_type": "code",
   "execution_count": null,
   "metadata": {
    "collapsed": true
   },
   "outputs": [],
   "source": []
  },
  {
   "cell_type": "code",
   "execution_count": 15,
   "metadata": {
    "collapsed": false
   },
   "outputs": [],
   "source": [
    "test_val = \"Propane dehydrogenation (PDH) converts propane into propene and by-product hydrogen. The propene from propane yield is about 85 m%. 6 >= 5, at symbol @, dollar $, carrot ^, &, star *, hash #, exclaimation !.\""
   ]
  },
  {
   "cell_type": "code",
   "execution_count": 17,
   "metadata": {
    "collapsed": false
   },
   "outputs": [
    {
     "name": "stdout",
     "output_type": "stream",
     "text": [
      "10\n",
      "[*] ValueError: The \"a\" value must 1 <= a <= 93 & the greatest common divisor for \"a\" and 93 should be one.\n",
      "20\n",
      "[+] PASSED\n",
      "30\n",
      "[*] ValueError: The \"a\" value must 1 <= a <= 93 & the greatest common divisor for \"a\" and 93 should be one.\n",
      "40\n",
      "[+] PASSED\n",
      "50\n",
      "[*] ValueError: The \"a\" value must 1 <= a <= 93 & the greatest common divisor for \"a\" and 93 should be one.\n",
      "60\n",
      "[*] ValueError: The \"a\" value must 1 <= a <= 93 & the greatest common divisor for \"a\" and 93 should be one.\n",
      "70\n",
      "[+] PASSED\n",
      "80\n",
      "[+] PASSED\n",
      "90\n",
      "[*] ValueError: The \"a\" value must 1 <= a <= 93 & the greatest common divisor for \"a\" and 93 should be one.\n",
      "93\n",
      "[*] ValueError: The \"a\" value must 1 <= a <= 93 & the greatest common divisor for \"a\" and 93 should be one.\n"
     ]
    }
   ],
   "source": [
    "import random\n",
    "\n",
    "ranging_num = [10, 20, 30, 40, 50, 60, 70, 80, 90, 93]\n",
    "for val in ranging_num:\n",
    "    a_val = random.randrange(1,val)\n",
    "    b_val = random.randrange(1,val)\n",
    "    try:\n",
    "        print(val)\n",
    "        my_affine = Affine(test_val, a_val, b_val)\n",
    "    except ValueError as e:\n",
    "        print(\"[*] ValueError: {}\".format(e))\n",
    "        pass\n",
    "    else:\n",
    "        crypted = my_affine.encrypt()\n",
    "        \n",
    "        add_otp = otp()\n",
    "        affine_otp = add_otp.encrypt(crypted)\n",
    "        \n",
    "        add_txt_padd = Padding()\n",
    "        affine_txt_pad = add_txt_padd.add_padding(affine_otp[0])\n",
    "        add_key_padd = Padding()\n",
    "        affine_key_pad = add_key_padd.add_padding(affine_otp[1])\n",
    "        \n",
    "        rem_txt_padd = Padding()\n",
    "        rAffine_txt_padd = rem_txt_padd.remove_padding(affine_txt_pad)\n",
    "        rem_key_padd = Padding()\n",
    "        rAffine_key_padd = rem_key_padd.remove_padding(affine_key_pad)\n",
    "        \n",
    "        rem_otp = otp()\n",
    "        no_otp = rem_otp.decrypt(rAffine_txt_padd, rAffine_key_padd)\n",
    "        \n",
    "        the_affine = Affine(no_otp, a_val, b_val)\n",
    "        end = the_affine.decrypt()\n",
    "\n",
    "        if end == test_val:\n",
    "            print('[+] PASSED')\n",
    "        else:\n",
    "            print('[-] FAILED')\n",
    "    #print(\"A value: {}, B value: {}\".format(a_val, b_val))"
   ]
  },
  {
   "cell_type": "code",
   "execution_count": null,
   "metadata": {
    "collapsed": true
   },
   "outputs": [],
   "source": []
  }
 ],
 "metadata": {
  "kernelspec": {
   "display_name": "Python 3",
   "language": "python",
   "name": "python3"
  },
  "language_info": {
   "codemirror_mode": {
    "name": "ipython",
    "version": 3
   },
   "file_extension": ".py",
   "mimetype": "text/x-python",
   "name": "python",
   "nbconvert_exporter": "python",
   "pygments_lexer": "ipython3",
   "version": "3.6.0"
  }
 },
 "nbformat": 4,
 "nbformat_minor": 2
}
