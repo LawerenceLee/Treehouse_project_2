{
 "cells": [
  {
   "cell_type": "code",
   "execution_count": 21,
   "metadata": {
    "collapsed": false
   },
   "outputs": [],
   "source": [
    "from onetimepad import OneTimePad as otp\n",
    "from padding import Padding\n",
    "from atbash import Atbash"
   ]
  },
  {
   "cell_type": "code",
   "execution_count": 22,
   "metadata": {
    "collapsed": false
   },
   "outputs": [],
   "source": [
    "# git clone <name of repo>\n",
    "# git status   # inside folder with repo, tells which files are not being tracted\n",
    "# git add <name of file> # adds file to git\n",
    "# git commit -m \"<comment>\" # commits changes with comment\n",
    "\n",
    "# git push origin master # push files to github"
   ]
  },
  {
   "cell_type": "code",
   "execution_count": 23,
   "metadata": {
    "collapsed": false
   },
   "outputs": [],
   "source": [
    "message = \"I am a modern major general\"\n",
    "my_message = 'Since the dawn of time we have been grasping at the straws of immortality.'"
   ]
  },
  {
   "cell_type": "code",
   "execution_count": 24,
   "metadata": {
    "collapsed": false
   },
   "outputs": [
    {
     "name": "stdout",
     "output_type": "stream",
     "text": [
      "hRMXV GSV WZDM LU GRNV DV SZEV YVVM TIZHKRMT ZG GSV HGIZDH LU RNNLIGZORGB+\n"
     ]
    }
   ],
   "source": [
    "ata = Atbash()\n",
    "cryptic_atbash = ata.encrypt(my_message)\n",
    "print(cryptic_atbash)"
   ]
  },
  {
   "cell_type": "code",
   "execution_count": 25,
   "metadata": {
    "collapsed": false
   },
   "outputs": [
    {
     "name": "stdout",
     "output_type": "stream",
     "text": [
      "('#r<fz*1o6q$q<qp5+QO≥!KAD0kd)]Dx.u÷uNºkxCpv$KCLrwan÷Z6EoHP/$%x3[#0KFNknni] u', 'pCL<ººIN##%o(@@Qffi8YMMawwi*F))bJ3ZZ9tv5P]≤OO%((Ey33/VQ$m  >FF1+_|(Yiv(Tx&&')\n"
     ]
    }
   ],
   "source": [
    "one_time = otp()\n",
    "charlie = one_time.encrypt(cryptic_atbash)\n",
    "print(charlie)"
   ]
  },
  {
   "cell_type": "code",
   "execution_count": 26,
   "metadata": {
    "collapsed": false,
    "scrolled": true
   },
   "outputs": [
    {
     "name": "stdout",
     "output_type": "stream",
     "text": [
      "#r<fz ç*1o6 çq$q< çqp5+ çQO≥! çKAD0 çkd)] çDx.u ç÷uNº çkxCp çv$KC çLrwa çn÷Z6 çEoHP ç/$%x ç3[#0 çKFNk çnni] ˙ç†≈˚ u˙˜∫∑ \n",
      "pCL<º çºIN# ç#%o( ç@@Qf çfi8Y çMMaw çwi*F ç))bJ ç3ZZ9 çtv5P ç]≤OO ç%((E çy33/ çVQ$m ç˜ƒø® †¥ø∑¬ >FF1+ ç_|(Y çiv(T çx&√& \n"
     ]
    }
   ],
   "source": [
    "text_padd = Padding()\n",
    "key_padd = Padding()\n",
    "print(text_padd.add_padding(charlie[0]))\n",
    "print(key_padd.add_padding(charlie[1]))"
   ]
  },
  {
   "cell_type": "markdown",
   "metadata": {},
   "source": [
    "## Enter text and key into the following variables"
   ]
  },
  {
   "cell_type": "code",
   "execution_count": 27,
   "metadata": {
    "collapsed": false
   },
   "outputs": [],
   "source": [
    "unpadded_txt = text_padd.remove_padding('#r<fz ç*1o6 çq$q< çqp5+ çQO≥! çKAD0 çkd)] çDx.u ç÷uNº çkxCp çv$KC çLrwa çn÷Z6 çEoHP ç/$%x ç3[#0 çKFNk çnni] ˙ç†≈˚ u˙˜∫∑')\n",
    "unpadded_key = key_padd.remove_padding('pCL<º çºIN# ç#%o( ç@@Qf çfi8Y çMMaw çwi*F ç))bJ ç3ZZ9 çtv5P ç]≤OO ç%((E çy33/ çVQ$m ç˜ƒø® †¥ø∑¬ >FF1+ ç_|(Y çiv(T çx&√&')"
   ]
  },
  {
   "cell_type": "code",
   "execution_count": 28,
   "metadata": {
    "collapsed": false
   },
   "outputs": [],
   "source": [
    "remove_pad = one_time.decrypt(unpadded_txt, unpadded_key)"
   ]
  },
  {
   "cell_type": "code",
   "execution_count": 29,
   "metadata": {
    "collapsed": false
   },
   "outputs": [
    {
     "name": "stdout",
     "output_type": "stream",
     "text": [
      "Since the dawn of time we have been grasping at the straws of immortality. \n"
     ]
    }
   ],
   "source": [
    "ata.decrypt(remove_pad)"
   ]
  },
  {
   "cell_type": "code",
   "execution_count": null,
   "metadata": {
    "collapsed": true
   },
   "outputs": [],
   "source": []
  }
 ],
 "metadata": {
  "kernelspec": {
   "display_name": "Python 3",
   "language": "python",
   "name": "python3"
  },
  "language_info": {
   "codemirror_mode": {
    "name": "ipython",
    "version": 3
   },
   "file_extension": ".py",
   "mimetype": "text/x-python",
   "name": "python",
   "nbconvert_exporter": "python",
   "pygments_lexer": "ipython3",
   "version": "3.6.0"
  }
 },
 "nbformat": 4,
 "nbformat_minor": 2
}
