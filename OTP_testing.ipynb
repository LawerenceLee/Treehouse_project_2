{
 "cells": [
  {
   "cell_type": "code",
   "execution_count": 1,
   "metadata": {
    "collapsed": false
   },
   "outputs": [],
   "source": [
    "from padding import Padding\n",
    "from onetimepad import OneTimePad as otp\n",
    "from reshape_dict import Reshape_Dict as rsd"
   ]
  },
  {
   "cell_type": "code",
   "execution_count": null,
   "metadata": {
    "collapsed": true
   },
   "outputs": [],
   "source": [
    "git clone <name of repo>\n",
    "git status   # inside folder with repo, tells which files are not being tracted\n",
    "git add <name of file>"
   ]
  },
  {
   "cell_type": "code",
   "execution_count": 2,
   "metadata": {
    "collapsed": false
   },
   "outputs": [],
   "source": [
    "message = \"I am a modern major general\""
   ]
  },
  {
   "cell_type": "code",
   "execution_count": 5,
   "metadata": {
    "collapsed": false
   },
   "outputs": [
    {
     "name": "stdout",
     "output_type": "stream",
     "text": [
      "[['L', '#'], ['8', '7', '='], ['s', 'g'], ['6', '?', ':', 'C', '*', 'p', 'X'], ['K', 'T', 'V', 'g', '2', 'Q'], ['F', 'j', 'm', '?', ']', ')', 'e', '(']] \n",
      " [['≤', '≤'], ['8', '>', '>'], ['s', 's'], ['<', '*', ']', '#', 'D', ';', ';'], ['8', 'T', 'M', 'I', 'f', 'f'], ['9', '2', ':', '3', 'N', ')', ':', ':']]\n"
     ]
    }
   ],
   "source": [
    "one_time = otp()\n",
    "one_time.encrypt(message)"
   ]
  },
  {
   "cell_type": "code",
   "execution_count": 6,
   "metadata": {
    "collapsed": false
   },
   "outputs": [
    {
     "name": "stdout",
     "output_type": "stream",
     "text": [
      "I am a modern major general \n"
     ]
    }
   ],
   "source": [
    "txt = [['K', 'N'], ['7', 'A', '['], ['>', '='], ['%', 's', '5', ' ', 'r', ',', 'v'], ['h', '?', '7', ' ', 'Z', 'F'], ['I', '8', '≥', '<', '>', 'X', 'a', '%']]\n",
    "key = [['Z', 'Z'], ['7', '?', '?'], ['>', '>'], ['s', 'U', '>', '_', 'a', '*', '*'], ['b', '?', '?', '0', 'R', 'R'], ['C', '4', '%', 'k', 'V', 'X', '[', '[']]\n",
    "\n",
    "one_time.decrypt(txt, key)"
   ]
  },
  {
   "cell_type": "code",
   "execution_count": null,
   "metadata": {
    "collapsed": true
   },
   "outputs": [],
   "source": []
  }
 ],
 "metadata": {
  "kernelspec": {
   "display_name": "Python 3",
   "language": "python",
   "name": "python3"
  },
  "language_info": {
   "codemirror_mode": {
    "name": "ipython",
    "version": 3
   },
   "file_extension": ".py",
   "mimetype": "text/x-python",
   "name": "python",
   "nbconvert_exporter": "python",
   "pygments_lexer": "ipython3",
   "version": "3.6.0"
  }
 },
 "nbformat": 4,
 "nbformat_minor": 2
}
