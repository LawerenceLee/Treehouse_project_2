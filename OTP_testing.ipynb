{
 "cells": [
  {
   "cell_type": "code",
   "execution_count": 12,
   "metadata": {
    "collapsed": false
   },
   "outputs": [],
   "source": [
    "from onetimepad import OneTimePad as otp"
   ]
  },
  {
   "cell_type": "code",
   "execution_count": 13,
   "metadata": {
    "collapsed": false
   },
   "outputs": [],
   "source": [
    "# git clone <name of repo>\n",
    "# git status   # inside folder with repo, tells which files are not being tracted\n",
    "# git add <name of file> # adds file to git\n",
    "# git commit -m \"<comment>\" # commits changes with comment\n",
    "\n",
    "# git push origin master # push files to github"
   ]
  },
  {
   "cell_type": "code",
   "execution_count": 14,
   "metadata": {
    "collapsed": false
   },
   "outputs": [],
   "source": [
    "message = \"I am a modern major general\""
   ]
  },
  {
   "cell_type": "code",
   "execution_count": 15,
   "metadata": {
    "collapsed": false
   },
   "outputs": [
    {
     "name": "stdout",
     "output_type": "stream",
     "text": [
      "[['G', 'C'], ['5', '-', 'm'], ['(', 'w'], ['(', 'F', 'h', '/', '6', 'a', 'w'], ['Q', '%', 'Q', '^', ';', 'u'], ['^', 'X', 'n', 'g', 'P', 'k', ']', 'B']] \n",
      " [['O', 'O'], ['5', 'y', 'y'], ['(', '('], ['w', 'f', 'd', '|', 'j', '(', '('], ['E', '%', 'B', 'k', '&', '&'], ['t', '*', 'a', '/', '#', 'k', 'T', 'T']]\n",
      "Encrypted Text: ˙GCçç 5˚-m˚ (w˙¥ß (Fh/6 aπw∑˚ Q%Q^; ˙u˚®œ ^XngP åk]Bß  \n",
      "Cypher Key: ¬OOƒ∫ 5ßy®y ((∑ç˚ wfd|j π((≈˚ E%Bk& &øµ†† t*a/# kTT∑∂ \n"
     ]
    }
   ],
   "source": [
    "one_time = otp()\n",
    "one_time.encrypt(message)"
   ]
  },
  {
   "cell_type": "code",
   "execution_count": 16,
   "metadata": {
    "collapsed": false
   },
   "outputs": [
    {
     "name": "stdout",
     "output_type": "stream",
     "text": [
      "I am a modern major general \n"
     ]
    }
   ],
   "source": [
    "txt = \"∂∫A˚6 LpOå˜ 7>≈®∑ 4p(,t X∫h√ƒ ºgr-a ≈çy∂˚ NuB_w ¬|z¥u\"\n",
    "key = \"Iπ∂Iå ∫Ldπd 77∑å® ÷b^÷5 ttø˜˜ *g.p- -∆åç˚ BD?!2 |&&©å\"\n",
    "\n",
    "# txt = [['B', 'D'], ['N', '2', '('], ['8', ','], ['!', '≤', 'c', 'l', '8', 'U', 'F'], ['?', 'D', ':', 'F', 'g', '%'], ['4', '3', 'k', 'B', 'J', '2', '<', 'O']] \n",
    "# key = [['P', 'P'], ['N', ':', ':'], ['8', '8'], ['o', 'F', ',', 'Y', 'l', 'R', 'R'], ['[', 'D', '_', 'f', '[', '['], ['?', 'd', 'O', '6', 'w', '2', 'd', 'd']]\n",
    "\n",
    "one_time.decrypt(txt, key)"
   ]
  },
  {
   "cell_type": "code",
   "execution_count": null,
   "metadata": {
    "collapsed": true
   },
   "outputs": [],
   "source": []
  }
 ],
 "metadata": {
  "kernelspec": {
   "display_name": "Python 3",
   "language": "python",
   "name": "python3"
  },
  "language_info": {
   "codemirror_mode": {
    "name": "ipython",
    "version": 3
   },
   "file_extension": ".py",
   "mimetype": "text/x-python",
   "name": "python",
   "nbconvert_exporter": "python",
   "pygments_lexer": "ipython3",
   "version": "3.6.0"
  }
 },
 "nbformat": 4,
 "nbformat_minor": 2
}
